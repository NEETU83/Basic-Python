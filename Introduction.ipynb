{
 "cells": [
  {
   "cell_type": "markdown",
   "metadata": {},
   "source": [
    "# INTRODUCTION"
   ]
  },
  {
   "cell_type": "markdown",
   "metadata": {},
   "source": [
    "*This chapter addresses the question “What is computer science?” We begin by introducing the essence\n",
    "of computational problem solving via some classic examples. Next, computer algorithms, the heart of\n",
    "computational problem solving, are discussed. This is followed by a look at computer hardware (and\n",
    "the related issues of binary representation and operating systems) and computer software (and the\n",
    "related issues of syntax, semantics, and program translation). The chapter finishes by presenting the\n",
    "process of computational problem solving, with an introduction to the Python programming language.*"
   ]
  },
  {
   "cell_type": "markdown",
   "metadata": {},
   "source": [
    "# OBJECTIVES"
   ]
  },
  {
   "cell_type": "markdown",
   "metadata": {},
   "source": [
    "After reading this chapter and completing the exercises, you will be able to:\n",
    "* Explain the essence of computational problem solving\n",
    "* Explain what a computer algorithm is\n",
    "* Explain the fundamental components of digital hardware\n",
    "* Explain the role of binary representation in digital computing\n",
    "* Explain what an operating systems is\n",
    "* Explain the fundamental concepts of computer software\n",
    "* Explain the fundamental features of IDLE in Python\n",
    "* Modify and execute a simple Python program"
   ]
  },
  {
   "cell_type": "markdown",
   "metadata": {},
   "source": [
    "# Motivation "
   ]
  },
  {
   "cell_type": "markdown",
   "metadata": {},
   "source": [
    "Computing technology has changed, and is continuing to change the world. Essentially every aspect of\n",
    "life has been impacted by computing. Just-in-time\n",
    "inventory allows companies to significantly reduce\n",
    "costs. Universal digital medical records promise to\n",
    "save the lives of many of the estimated 100,000\n",
    " people who die each year from medical errors. Vast\n",
    " information resources, such as Wikipedia, now provide easy, quick access to a breadth of knowledge as\n",
    "never before. Information sharing via Facebook and\n",
    "Twitter has not only brought family and friends\n",
    " together in new ways, but has also helped spur\n",
    " political change around the world. New interdisciplinary fields combining computing and science\n",
    "will lead to breakthroughs previously unimaginable. Computing-related fields in almost all areas of\n",
    "study are emerging (see Figure below).\n",
    " In the study of computer science, there are fundamental principles of computation to be\n",
    "learned that will never change. In addition to these principles, of course, there is always changing\n",
    "technology. That is what makes the field of computer science so exciting. There is constant change\n",
    "and advancement, but also a foundation of principles to draw from. What can be done with computation is limited only by our imagination. With that said, we begin our journey into the world of computing. I have found it an unending fascination—I hope that you do too. Bon voyage! "
   ]
  },
  {
   "cell_type": "markdown",
   "metadata": {},
   "source": [
    "<img src=\"1.jpg\">"
   ]
  },
  {
   "cell_type": "markdown",
   "metadata": {},
   "source": [
    "<img src=\"2.jpg\">"
   ]
  },
  {
   "cell_type": "markdown",
   "metadata": {},
   "source": [
    "# FUNDAMENTALS"
   ]
  },
  {
   "cell_type": "markdown",
   "metadata": {},
   "source": [
    "## What Is Computer Science? "
   ]
  },
  {
   "cell_type": "markdown",
   "metadata": {},
   "source": [
    "What computer science is fundamentally about is computational problem solving —that is, solving problems by the use of computation. However, it\n",
    "does not convey its tremendous breadth and diversity . There are various areas of study in computer science including software engineering (the\n",
    "design and implementation of large software systems), database management, computer networks, computer graphics, computer simulation, data\n",
    "mining, information security, programming language design, systems programming, computer architecture, human–computer interaction, robotics,\n",
    "and artificial intelligence, among others.\n",
    " <br>The definition of computer science as **computational problem solving** begs the question: *What is computation?* One characterization of computation is given by the notion of an algorithm . <br>The definition of an algorithm is given in subsequesnt section. For now, consider an algorithm to be a series of\n",
    "steps that can be systematically followed for producing the answer to a certain type of problem.\n",
    "We look at fundamental issues of computational problem solving next.   "
   ]
  },
  {
   "cell_type": "markdown",
   "metadata": {},
   "source": [
    "<img src=\"3.jpg\">"
   ]
  },
  {
   "cell_type": "markdown",
   "metadata": {},
   "source": [
    "**Computer science is fundamentally about computational problem solving.**"
   ]
  },
  {
   "cell_type": "markdown",
   "metadata": {},
   "source": [
    "### The Essence of Computational Problem Solving "
   ]
  },
  {
   "cell_type": "markdown",
   "metadata": {},
   "source": [
    "In order to solve a problem computationally, two\n",
    "things are needed: <br>a representation that captures all\n",
    "the relevant aspects of the problem, and <br>an algorithm that solves the problem by use of the representation. <br>**Let’s consider a problem known as the Man, Cabbage, Goat, Wolf problem.** <br>A man lives on the east side of a river. He wishes to bring a cabbage, a goat, and a wolf to a village on the west side of the river to sell. However, his boat is only big enough to hold himself,\n",
    "and either the cabbage, goat, or wolf. In addition,the man cannot leave the goat alone with the cabbage because the goat will eat the cabbage, and he cannot leave the wolf alone with the goat because the wolf will eat the goat. How does the man solve his problem?\n",
    "<br> There is a simple algorithmic approach for solving this problem by simply trying all possible combinations of items that may be rowed back and forth across the river. Trying all possible solutions to a given problem is referred to as a brute force approach . <br> **What would be an appropriate representation for this problem?** <br> Since only the relevant aspects of the problem need to be represented, all the irrelevant details can be omitted. A representation that leaves out details of what is being represented is a form of abstraction. **<br>The use of abstraction is prevalent in computer science.**<br> In this case, is the color of the boat relevant? <br>The width of the river? <br>The name of the man? <br>No, the only relevant information is where\n",
    "each item is at each step. <br>The collective location of each item, in this case, refers to the state of the problem. <br>Thus, the start state of the problem can be represented as follows."
   ]
  },
  {
   "cell_type": "markdown",
   "metadata": {},
   "source": [
    "<img src=\"4.jpg\">"
   ]
  },
  {
   "cell_type": "markdown",
   "metadata": {},
   "source": [
    "man cabbage goat wolf <br>\n",
    "[E, E, E, E] "
   ]
  },
  {
   "cell_type": "markdown",
   "metadata": {},
   "source": [
    " In this representation, the symbol E denotes that each corresponding object is on the east side of\n",
    "the river. If the man were to row the goat across with him, for example, then the representation of\n",
    "the new problem state would be "
   ]
  },
  {
   "cell_type": "markdown",
   "metadata": {},
   "source": [
    "man cabbage goat wolf <br>\n",
    "[W, E, W, E] "
   ]
  },
  {
   "cell_type": "markdown",
   "metadata": {},
   "source": [
    "in which the symbol W indicates that the corresponding object is on the west side of the river—in\n",
    "this case, the man and goat. (The locations of the cabbage and wolf are left unchanged.) A solution\n",
    "to this problem is a sequence of steps that converts the initial state, "
   ]
  },
  {
   "cell_type": "markdown",
   "metadata": {},
   "source": [
    "[E, E, E, E] "
   ]
  },
  {
   "cell_type": "markdown",
   "metadata": {},
   "source": [
    "in which all objects are on the east side of the river, to the goal state , \n"
   ]
  },
  {
   "cell_type": "markdown",
   "metadata": {},
   "source": [
    "[W, W, W, W] "
   ]
  },
  {
   "cell_type": "markdown",
   "metadata": {},
   "source": [
    " in which all objects are on the west side of the river. Each step corresponds to the man rowing a\n",
    "particular object across the river (or the man rowing alone). A\n"
   ]
  },
  {
   "cell_type": "markdown",
   "metadata": {},
   "source": [
    "<br>Another example computational problem, suppose that you needed to write a program that displays a calendar month for any given month and year. The representation of this problem is rather straightforward. Only a few values need to be maintained—the month and year, the number of days in each month, the names of the days of the week, and the day of the week that the first day of the month falls on. Most of these values are either provided by the user (such as the month and year) or easily determined (such as the number of days in a given month).\n",
    "<br>The less obvious part of this problem is how to determine the day of the week that a given date falls on. You would need an algorithm that can\n",
    "compute this. Thus, no matter how well you may know a given programming language or how good a programmer you may be, without such an algorithm you could not solve this problem. "
   ]
  },
  {
   "cell_type": "markdown",
   "metadata": {},
   "source": [
    "<img src=\"5.jpg\">"
   ]
  },
  {
   "cell_type": "markdown",
   "metadata": {},
   "source": [
    "**In order to solve a problem computationally, two things are needed: <br>1. a representation that captures all the\n",
    "relevant aspects of the problem, and <br>2. an algorithm that solves the problem by use of the representation.**"
   ]
  },
  {
   "cell_type": "markdown",
   "metadata": {},
   "source": [
    "### Limits of Computational Problem Solving "
   ]
  },
  {
   "cell_type": "markdown",
   "metadata": {},
   "source": [
    " Once an algorithm for solving a given problem is developed or found, an important question is, “Can\n",
    "a solution to the problem be found in a reasonable amount of time?” If not, then the particular algorithm is of limited practical use"
   ]
  },
  {
   "cell_type": "markdown",
   "metadata": {},
   "source": [
    "<img src=\"6.jpg\">"
   ]
  },
  {
   "cell_type": "markdown",
   "metadata": {},
   "source": [
    "The Traveling Salesman problem is a classic computational problem in computer science. The problem is to find the shortest route of travel for a salesman needing to visit a given set of cities. <br> In a brute force approach, the lengths of all possible routes would be calculated and compared to fi nd the shortest one. For ten cities, the number of possible routes is 10! (10 factorial), or over three and a half million (3,628,800). For twenty cities, the\n",
    "number of possible routes is 20!, or over two and a half quintillion (2,432,902,008,176,640,000).<br>If we assume that a computer could compute the\n",
    "lengths of one million routes per second, it would take over 77,000 years to fi nd the shortest routefor twenty cities by this approach. For 50 cities,the number of possible routes is over $10^{64}$. In this case, it would take more time to solve than thenage of the universe! A similar problem exists for the game of\n",
    "chess. A brute force approach for a chess-playing program would be to “look ahead” to all the eventual outcomes of every move that\n",
    "can be made in deciding each next move. There are approximately $10^{120}$ possible chess games that can be played. This is related to the average number\n",
    "of look-ahead steps needed for deciding each move. How big is this number? There are approximately $10^{80}$ atoms in the observable universe, and an estimated  3x$10^{90}$ grains of sand to fi ll the universe solid. Thus, there are more possible chess games that can be played than grains of sand to fill the universe\n",
    "solid! For problems such as this and the Traveling Salesman problem in which a brute-force approach is impractical to use, more efficient problem-solving methods must be discovered that find either an exact or an approximate solution to the problem. "
   ]
  },
  {
   "cell_type": "markdown",
   "metadata": {},
   "source": [
    "Any algorithm that correctly solves a given problem must solve the problem in a reasonable\n",
    "amount of time, otherwise it is of limited practical use."
   ]
  },
  {
   "cell_type": "markdown",
   "metadata": {},
   "source": [
    "<img src=\"7.jpg\">"
   ]
  },
  {
   "cell_type": "markdown",
   "metadata": {},
   "source": [
    "# Computer Algorithms"
   ]
  },
  {
   "cell_type": "markdown",
   "metadata": {},
   "source": [
    "## What Is an Algorithm?"
   ]
  },
  {
   "cell_type": "markdown",
   "metadata": {},
   "source": [
    "An algorithm is a finite number of clearly described, unambiguous “doable” steps that can be\n",
    "systematically followed to produce a desired result for given input in a finite amount of time (that is, it eventually terminates). Algorithms solve general problems (determining whether any given number is a prime number), and not specific ones (determining whether 30753 is a prime number). Algorithms, therefore, are general computational methods used for solving particular problem instances. \n",
    "<p>The word “algorithm” is derived from the ninth-century Arab mathematician, Al-Khwarizmi (Figure below), who worked on “written processes to achieve some goal.” The term “algebra” also derives from the term “al-jabr,” which he introduced.</p>\n",
    "<p>Computer algorithms are central to computer science. They provide step-by-step methods of computation that a machine can carry out. Having high-speed machines (computers) that can consistently follow and execute a given set of instructions provides a reliable and effective means of realizing computation. However, the computation that a given computer performs is only as good as the underlying algorithm used. Understanding what can be effectively programmed and executed by computers, therefore, relies on the understanding of computer algorithms.</p>\n"
   ]
  },
  {
   "cell_type": "markdown",
   "metadata": {},
   "source": [
    "**An algorithm is a finite number of clearly described, unambiguous “doable” steps that can be\n",
    "systematically followed to produce a desired result for given input in a finite amount of time.**"
   ]
  },
  {
   "cell_type": "markdown",
   "metadata": {},
   "source": [
    "Much of what has been learned about algorithms and computation since the beginnings of m odern computing in the 1930s–1940s could have been studied centuries ago, since the study of algorithms does not depend on the existence of computers. The algorithm for performing long division is such an example. However, most algorithms are not as simple or practical to apply manually. Most require the use of computers either because they would  require too much time for a person to apply, or involve so much detail as to make human error likely. Because  computers can   execute instructions very quickly   and reliably   without error,  algorithms and computers are a perfect match! Figure below gives an e xample a lgorithm for determining the day of the week for any date between January 1, 1800 and D ecember 31, 2099. "
   ]
  },
  {
   "cell_type": "markdown",
   "metadata": {},
   "source": [
    "<img src=\"7_1.jpg\">"
   ]
  },
  {
   "cell_type": "markdown",
   "metadata": {},
   "source": [
    "# Computer Hardware"
   ]
  },
  {
   "cell_type": "markdown",
   "metadata": {},
   "source": [
    "Computer hardware comprises the physical part of a computer system. It includes the all-important\n",
    "components of the central processing unit (CPU) and main memory . It also includes peripheral\n",
    "components such as a keyboard, monitor, mouse, and printer. In this section, computer hardware and\n",
    "the intrinsic use of binary representation in computers is discussed."
   ]
  },
  {
   "cell_type": "markdown",
   "metadata": {},
   "source": [
    "## Digital Computing: It’s All about Switches"
   ]
  },
  {
   "cell_type": "markdown",
   "metadata": {},
   "source": [
    "It is essential that computer hardware be reliable and error free. <BR>If the hardware gives incorrect re-\n",
    "sults, then any program run on that hardware is unreliable. <br>A rare occurrence of a hardware error was \n",
    "discovered in 1994. <br>The widely used Intel processor was found to give incorrect results only when\n",
    "certain numbers were divided, estimated as likely to occur once every 9 billion divisions. <br>Still, the\n",
    "discovery of the error was very big news, and Intel promised to replace the processor for any one\n",
    "that requested it.\n",
    "The key to developing reliable systems is to keep the design as simple as possible. <br>In digital\n",
    "computing, all information is represented as a series of digits. We are used to representing numbers\n",
    "using base 10 with digits 0–9. Consider if information were represented within a computer system this way, as shown in Figure below"
   ]
  },
  {
   "cell_type": "markdown",
   "metadata": {},
   "source": [
    "<img src=\"8.jpg\">"
   ]
  },
  {
   "cell_type": "markdown",
   "metadata": {},
   "source": [
    "In current electronic computing, each digit is represented by a different voltage level. The more volt-\n",
    "age levels (digits) that the hardware must utilize and distinguish, the more complex the hardware design becomes. This results in greater chance of hardware design errors. It is a fact of information\n",
    "theory, however, that any information can be represented using only two symbols. Because of this,\n",
    "all information within a computer system is represented by the use of only two digits, 0 and 1 , called\n",
    "binary representation , shown in Figure below"
   ]
  },
  {
   "cell_type": "markdown",
   "metadata": {},
   "source": [
    "<img src=\"9.jpg\">"
   ]
  },
  {
   "cell_type": "markdown",
   "metadata": {},
   "source": [
    "In this representation, each digit can be one of only two possible values, similar to a light switch\n",
    "that can be either on or off. Computer hardware, therefore, is based on the use of simple electronic\n",
    "“on/off” switches called transistors that switch at very high speed. Integrated circuits (“chips”),\n",
    "the building blocks of computer hardware, are comprised of millions or even billions of transistors."
   ]
  },
  {
   "cell_type": "markdown",
   "metadata": {},
   "source": [
    "**All information within a computer system is represented using only two digits, 0 and 1, called binary representation.**"
   ]
  },
  {
   "cell_type": "markdown",
   "metadata": {},
   "source": [
    "## The Binary Number System"
   ]
  },
  {
   "cell_type": "markdown",
   "metadata": {},
   "source": [
    "For representing numbers, any base (radix) can be used. For example, in base 10, there are ten pos-\n",
    "sible digits (0, 1, . . ., 9), in which each column value is a power of ten , as shown in Figure below"
   ]
  },
  {
   "cell_type": "markdown",
   "metadata": {},
   "source": [
    "<img src=\"11.jpg\">"
   ]
  },
  {
   "cell_type": "markdown",
   "metadata": {},
   "source": [
    "Other radix systems work in a similar manner. Base 2 has digits 0 and 1, with place values that are\n",
    "powers of two, as depicted in Figure below"
   ]
  },
  {
   "cell_type": "markdown",
   "metadata": {},
   "source": [
    "<img src=\"12.jpg\" >"
   ]
  },
  {
   "cell_type": "markdown",
   "metadata": {},
   "source": [
    "As shown in figure above, converting from base 2 to base 10 is simply a matter of adding up the column\n",
    "values that have a 1.\n",
    "The term bit stands for binary digit . Therefore, every bit has the value 0 or 1. A byte is a\n",
    "group of bits operated on as a single unit in a computer system, usually consisting of eight bits.\n",
    "Although values represented in base 2 are signifi cantly longer than those represented in base 10,\n",
    "binary representation is used in digital computing because of the resulting simplicity of hardware\n",
    "design."
   ]
  },
  {
   "cell_type": "markdown",
   "metadata": {},
   "source": [
    "The algorithm for the conversion from base 10 to base 2 is to successively divide a number by\n",
    "two until the remainder becomes 0. The remainder of each division provides the next higher-order\n",
    "(binary) digit, as shown in Figure below"
   ]
  },
  {
   "cell_type": "markdown",
   "metadata": {},
   "source": [
    "<img src=\"13.jpg\">"
   ]
  },
  {
   "cell_type": "markdown",
   "metadata": {},
   "source": [
    "Thus, we get the binary representation of 99 to be 1100011. This is the same as in Figure above,\n",
    "except that we had an extra leading insignificant digit of 0, since we used an eight-bit representation\n",
    "there."
   ]
  },
  {
   "cell_type": "markdown",
   "metadata": {},
   "source": [
    "The term bit stands for binary digit. A byte is a group of bits operated on as a single unit in a\n",
    "computer system, usually consisting of eight bits."
   ]
  },
  {
   "cell_type": "markdown",
   "metadata": {},
   "source": [
    "## Fundamental Hardware Components"
   ]
  },
  {
   "cell_type": "markdown",
   "metadata": {},
   "source": [
    "<br> 1. The central processing unit (CPU) is the “brain” of a computer system, containing digital logic\n",
    "circuitry able to interpret and execute instructions. <br> 2. Main memory is where currently executing\n",
    "programs reside, which the CPU can directly and very quickly access.<br> 3. Main memory is volatile; that\n",
    "is, the contents are lost when the power is turned off. <br>4. In contrast, secondary memory is nonvolatile,\n",
    "and therefore provides long-term storage of programs and data.<br>5. This kind of storage, for example,\n",
    "can be magnetic (hard drive), optical (CD or DVD), or nonvolatile fl ash memory (such as in a USB\n",
    "drive).<br>6. Input/output devices include anything that allows for input (such as the mouse and keyboard)\n",
    "or output (such as a monitor or printer).<br>7. Finally, buses transfer data between components\n",
    "within a computer system, such as between the CPU and main memory.<br>8. The relationship of these\n",
    "devices is depicted in Figure  below."
   ]
  },
  {
   "cell_type": "markdown",
   "metadata": {},
   "source": [
    "**The central processing unit (CPU) is the “brain” of a computer, containing digital logic circuitry\n",
    "able to interpret and execute instructions.**"
   ]
  },
  {
   "cell_type": "markdown",
   "metadata": {},
   "source": [
    "## Operating Systems—Bridging Software and Hardware"
   ]
  },
  {
   "cell_type": "markdown",
   "metadata": {},
   "source": [
    "An operating system is software that has the job of managing and interacting with the hardware\n",
    "resources of a computer. Because an operating system is intrinsic to the operation a computer, it is\n",
    "referred to as system software"
   ]
  },
  {
   "cell_type": "markdown",
   "metadata": {},
   "source": [
    "<img src=\"14.jpg\">"
   ]
  },
  {
   "cell_type": "markdown",
   "metadata": {},
   "source": [
    "An operating system acts as the “middle man” between the hardware\n",
    "and executing application programs (see Figure below). For\n",
    "example, it controls the allocation of memory for the various programs\n",
    "that may be executing on a computer. Operating systems\n",
    "also provide a particular user interface. Thus, it is the operating\n",
    "system installed on a given computer that determines the “look and\n",
    "feel” of the user interface and how the user interacts with the system,\n",
    "and not the particular model computer"
   ]
  },
  {
   "cell_type": "markdown",
   "metadata": {},
   "source": [
    "<img src=\"15.jpg\">"
   ]
  },
  {
   "cell_type": "markdown",
   "metadata": {},
   "source": [
    "**An operating system is software that has the job of managing\n",
    "the hardware resources of a given computer and providing a\n",
    "particular user interface.**"
   ]
  },
  {
   "cell_type": "markdown",
   "metadata": {},
   "source": [
    "## Limits of Integrated Circuits Technology: Moore’s Law"
   ]
  },
  {
   "cell_type": "markdown",
   "metadata": {},
   "source": [
    "In 1965, Gordon E. Moore (Figure below), one of the pioneers in the development of integrated\n",
    "circuits and cofounder of Intel Corporation, predicted that as a result of continuing engineering developments, the number of transistors that\n",
    "would be able to be put on a silicon chip would\n",
    "double roughly every two years, allowing the\n",
    "complexity and therefore the capabilities of integrated\n",
    "circuits to grow exponentially. This\n",
    "prediction became known as Moore’s Law .\n",
    "Amazingly, to this day that prediction has held\n",
    "true. While this doubling of performance cannot\n",
    "go on indefinitely, it has not yet reached its limit."
   ]
  },
  {
   "cell_type": "markdown",
   "metadata": {},
   "source": [
    "<img src=\"16.jpg\">"
   ]
  },
  {
   "cell_type": "markdown",
   "metadata": {},
   "source": [
    "## Computer Software"
   ]
  },
  {
   "cell_type": "markdown",
   "metadata": {},
   "source": [
    "The fi rst computer programs ever written were for\n",
    "a mechanical computer designed by Charles\n",
    "Babbage in the mid-1800s.The person\n",
    "who wrote these programs was a woman, Ada\n",
    "Lovelace (Figure below), who was a talented mathematician.\n",
    "Thus, she is referred to as “the first\n",
    "computer programmer.” This section discusses\n",
    "fundamental issues of computer software."
   ]
  },
  {
   "cell_type": "markdown",
   "metadata": {},
   "source": [
    "<img src=\"17.jpg\">"
   ]
  },
  {
   "cell_type": "markdown",
   "metadata": {},
   "source": [
    "# What Is Computer Software?"
   ]
  },
  {
   "cell_type": "markdown",
   "metadata": {},
   "source": [
    "Computer software is a set of program instructions,\n",
    "including related data and documentation,\n",
    "that can be executed by computer. This can be in\n",
    "the form of instructions on paper, or in digital form.\n",
    "While system software is intrinsic to a computer\n",
    "system, application software fulfi lls users’ needs,\n",
    "such as a photo-editing program. We discuss the\n",
    "important concepts of syntax, semantics, and program\n",
    "translation next."
   ]
  },
  {
   "cell_type": "markdown",
   "metadata": {},
   "source": [
    "Computer software is a set of program instructions, including related data and documentation,\n",
    "that can be executed by computer."
   ]
  },
  {
   "cell_type": "markdown",
   "metadata": {},
   "source": [
    "## Syntax, Semantics, and Program Translation\n"
   ]
  },
  {
   "cell_type": "markdown",
   "metadata": {},
   "source": [
    "## What Are Syntax and Semantics?"
   ]
  },
  {
   "cell_type": "markdown",
   "metadata": {},
   "source": [
    "Programming languages (called “artifi cial languages”) are languages just as “natural languages”\n",
    "such as English and Mandarin (Chinese). Syntax and semantics are important concepts that apply to\n",
    "all languages."
   ]
  },
  {
   "cell_type": "markdown",
   "metadata": {},
   "source": [
    "The syntax of a language is a set of characters and the acceptable arrangements (sequences)\n",
    "of those characters. English, for example, includes the letters of the alphabet, punctuation, and properly\n",
    "spelled words and properly punctuated sentences. The following is a syntactically correct sentence\n",
    "in English,"
   ]
  },
  {
   "cell_type": "markdown",
   "metadata": {},
   "source": [
    "“Hello there, how are you?” The following, however, is not syntactically correct,\n",
    "“Hello there, hao are you?”"
   ]
  },
  {
   "cell_type": "markdown",
   "metadata": {},
   "source": [
    "In this sentence, the sequence of letters “hao” is not a word in the English language. Now consider\n",
    "the following sentence,"
   ]
  },
  {
   "cell_type": "markdown",
   "metadata": {},
   "source": [
    "“Colorless green ideas sleep furiously.”"
   ]
  },
  {
   "cell_type": "markdown",
   "metadata": {},
   "source": [
    "This sentence is syntactically correct, but is semantically incorrect, and thus has no meaning."
   ]
  },
  {
   "cell_type": "markdown",
   "metadata": {},
   "source": [
    "The semantics of a language is the meaning associated with each syntactically correct sequence\n",
    "of characters. In Mandarin, “Hao” is syntactically correct meaning “good.” (“Hao” is from a\n",
    "system called pinyin, which uses the Roman alphabet rather than Chinese characters for writing\n",
    "Mandarin.) Thus, every language has its own syntax and semantics, as demonstrated in Figure below."
   ]
  },
  {
   "cell_type": "markdown",
   "metadata": {},
   "source": [
    "<img src=\"18.jpg\">"
   ]
  },
  {
   "cell_type": "markdown",
   "metadata": {},
   "source": [
    "**Program Translation**"
   ]
  },
  {
   "cell_type": "markdown",
   "metadata": {},
   "source": [
    "Central processing unit (CPU) is designed to interpret and execute a specifi c set of instructions\n",
    "represented in binary form (i.e., 1s and 0s) called machine code . Only programs in machine code\n",
    "can be executed by a CPU, depicted in Figure below"
   ]
  },
  {
   "cell_type": "markdown",
   "metadata": {},
   "source": [
    "<img src=\"19.jpg\">"
   ]
  },
  {
   "cell_type": "markdown",
   "metadata": {},
   "source": [
    "Writing programs at this “low level” is tedious and error-prone. Therefore, most programs are written\n",
    "in a “high-level” programming language such as Python. Since the instructions of such programs\n",
    "are not in machine code that a CPU can execute, a translator program must be used. There are two\n",
    "fundamental types of translators. One, called a compiler , translates programs directly into machine\n",
    "code to be executed by the CPU, denoted in Figure below."
   ]
  },
  {
   "cell_type": "markdown",
   "metadata": {},
   "source": [
    "<img src=\"20.jpg\">"
   ]
  },
  {
   "cell_type": "markdown",
   "metadata": {},
   "source": [
    "Thus, an interpreter can immediately execute instructions as they are entered. This is referred to as\n",
    "interactive mode . This is a very useful feature for program development. Python, as we shall see,\n",
    "is executed by an interpreter. On the other hand, compiled programs generally execute faster than\n",
    "interpreted programs. Any program can be executed by either a compiler or an interpreter, as long\n",
    "there exists the corresponding translator program for the programming language that it is written in."
   ]
  },
  {
   "cell_type": "markdown",
   "metadata": {},
   "source": [
    "A compiler is a translator program that translates programs directly into machine code to be\n",
    "executed by the CPU. An interpreter executes program instructions in place of (“running on\n",
    "top of”) the CPU."
   ]
  },
  {
   "cell_type": "markdown",
   "metadata": {},
   "source": [
    "**Program Debugging: Syntax Errors vs. Semantic Errors**"
   ]
  },
  {
   "cell_type": "markdown",
   "metadata": {},
   "source": [
    "Program debugging is the process of fi nding and correcting errors ( “bugs” ) in a computer program.\n",
    "Programming errors are inevitable during program development. Syntax errors are caused by\n",
    "invalid syntax (for example, entering prnt instead of print). Since a translator cannot understand\n",
    "instructions containing syntax errors, translators terminate when encountering such errors indicating\n",
    "where in the program the problem occurred."
   ]
  },
  {
   "cell_type": "markdown",
   "metadata": {},
   "source": [
    "In contrast, semantic errors (generally called logic errors ) are errors in program logic. Such\n",
    "errors cannot be automatically detected, since translators cannot understand the intent of a given\n",
    "computation. For example, if a program computed the average of three numbers as follows,"
   ]
  },
  {
   "cell_type": "markdown",
   "metadata": {},
   "source": [
    "                (num1 + num2 + num3) / 2.0"
   ]
  },
  {
   "cell_type": "markdown",
   "metadata": {},
   "source": [
    "a translator would have no means of determining that the divisor should be 3 and not 2. Computers\n",
    "do not understand what a program is meant to do, they only follow the instructions given . It is up to\n",
    "the programmer to detect such errors. Program debugging is not a trivial task, and constitutes much\n",
    "of the time of program development."
   ]
  },
  {
   "cell_type": "markdown",
   "metadata": {},
   "source": [
    "**Syntax errors are caused by invalid syntax. Semantic (logic) errors are caused by errors in program logic.**"
   ]
  },
  {
   "cell_type": "markdown",
   "metadata": {},
   "source": [
    "# Procedural vs. Object-Oriented Programming"
   ]
  },
  {
   "cell_type": "markdown",
   "metadata": {},
   "source": [
    "Programming languages fall into a number of programming paradigms . The two major programming paradigms in use today are <br>1. procedural (imperative) programming and <br>2. object-oriented\n",
    "programming . <br>Each provides a different way of thinking about computation. While most programming\n",
    "languages only support one paradigm, Python supports both procedural and object-oriented\n",
    "programming. We will start with the procedural aspects of Python."
   ]
  },
  {
   "cell_type": "markdown",
   "metadata": {},
   "source": [
    "**Procedural programming and object-oriented programming are two major programming paradigms in use today.**"
   ]
  },
  {
   "cell_type": "markdown",
   "metadata": {},
   "source": [
    "# COMPUTATIONAL PROBLEM SOLVING"
   ]
  },
  {
   "cell_type": "markdown",
   "metadata": {},
   "source": [
    "## The Process of Computational Problem Solving"
   ]
  },
  {
   "cell_type": "markdown",
   "metadata": {},
   "source": [
    "Computational problem solving does not simply involve the act of computer programming. It is a\n",
    "process , with programming being only one of the steps. Before a program is written, a design for the\n",
    "program must be developed. And before a design can be developed, the problem to be solved must\n",
    "be well understood. Once written, the program must be thoroughly tested. These steps are outlined\n",
    "in Figure below"
   ]
  },
  {
   "cell_type": "markdown",
   "metadata": {},
   "source": [
    "<img src=\"22.jpg\">"
   ]
  },
  {
   "cell_type": "markdown",
   "metadata": {},
   "source": [
    "## Problem Analysis"
   ]
  },
  {
   "cell_type": "markdown",
   "metadata": {},
   "source": [
    "**Understanding the Problem**"
   ]
  },
  {
   "cell_type": "markdown",
   "metadata": {},
   "source": [
    "Once a problem is clearly understood, the fundamental computational issues for solving it can be\n",
    "determined. For each of the problems discussed earlier, the representation is straightforward. For\n",
    "the calendar month problem, there are two\n",
    "algorithmic tasks— determining the first day\n",
    "of a given month, and displaying the calendar\n",
    "month in the proper format. The first day\n",
    "of the month can be obtained by direct calculation\n",
    "by use of the algorithm provided in\n",
    " previous Figure "
   ]
  },
  {
   "cell_type": "markdown",
   "metadata": {},
   "source": [
    "For the Man, Cabbage, Goat, Wolf\n",
    "(MCGW) problem, a brute-force algorithmic\n",
    "approach of trying all possible solutions works\n",
    "very well, since there are a small number of\n",
    "actions that can be taken at each step, and only\n",
    "a relatively small number of steps for reaching\n",
    "a solution. For both the Traveling Salesman\n",
    "problem and the game of chess, the brute-force\n",
    "approach is infeasible. Thus, the computational\n",
    "issue for these problems is to find other,\n",
    "more effi cient algorithmic approaches for their solution. (In fact, methods have been developed for solving Traveling Salesman problems involving\n",
    "tens of thousands of cities. And current chess-playing programs can beat top-ranked chess masters.)"
   ]
  },
  {
   "cell_type": "markdown",
   "metadata": {},
   "source": [
    "**Knowing What Constitutes a Solution**"
   ]
  },
  {
   "cell_type": "markdown",
   "metadata": {},
   "source": [
    "Besides clearly understanding a computational problem, one must know what constitutes a solution.\n",
    "For some problems, there is only one solution. For others, there may be a number (or infinite number)\n",
    "of solutions. Thus, a program may be stated as finding,"
   ]
  },
  {
   "cell_type": "markdown",
   "metadata": {},
   "source": [
    "♦ A solution<br>\n",
    "♦ An approximate solution<br>\n",
    "♦ A best solution<br>\n",
    "♦ All solutions<br>"
   ]
  },
  {
   "cell_type": "markdown",
   "metadata": {},
   "source": [
    " For the MCGW problem, there are an infinite number of solutions since the man could pointlessly\n",
    "row back and forth across the river an arbitrary number of times. A best solution here is one with the\n",
    "shortest number of steps. (There may be more than one “best” solution for any given problem.) In\n",
    "the Traveling Salesman problem there is only one solution (unless there exists more than one shortest\n",
    "route). Finally, for the game of chess, the goal (solution) is to win the game. Thus, since the\n",
    "number of chess games that can be played is on the order of     (with each game ending in a win,\n",
    "a loss, or a stalemate), there are a comparable number of possible solutions to this problem."
   ]
  },
  {
   "cell_type": "markdown",
   "metadata": {},
   "source": [
    "# Program Design"
   ]
  },
  {
   "cell_type": "markdown",
   "metadata": {},
   "source": [
    "### Describing the Data Needed"
   ]
  },
  {
   "cell_type": "markdown",
   "metadata": {},
   "source": [
    "For the Man, Cabbage, Goat, Wolf problem, a list can be used to represent the correct location (east\n",
    "and west) of the man, cabbage, goat, and wolf as discussed earlier, reproduced below,"
   ]
  },
  {
   "cell_type": "markdown",
   "metadata": {},
   "source": [
    "            man   cabbage  goat  wolf\n",
    "            [W,      E,      W,   E]"
   ]
  },
  {
   "cell_type": "markdown",
   "metadata": {},
   "source": [
    "For the Calendar Month problem, the data include the month and year (entered by the user), the\n",
    "number of days in each month, and the names of the days of the week. A useful structuring of the\n",
    "data is given below,"
   ]
  },
  {
   "cell_type": "markdown",
   "metadata": {},
   "source": [
    "                             [month , year]\n",
    "               [31, 28, 31, 30, 31, 30, 31, 31, 30, 31, 30, 31]\n",
    "     [‘Sunday’, ‘Monday’, ‘Tuesday’, ‘Wednesday’, ‘Thursday’, ‘Friday’, ‘Saturday’]"
   ]
  },
  {
   "cell_type": "markdown",
   "metadata": {},
   "source": [
    "The month and year are grouped in a single list since they are naturally associated. Similarly, the\n",
    "names of the days of the week and the number of days in each month are grouped. Finally, the first day of the month, can be represented by a single integer,"
   ]
  },
  {
   "cell_type": "markdown",
   "metadata": {},
   "source": [
    "                    0 – Sunday, 1 – Monday, . . ., 6 – Saturday"
   ]
  },
  {
   "cell_type": "markdown",
   "metadata": {},
   "source": [
    "For the Traveling Salesman problem, the distance between each pair of cities must be represented.\n",
    "One possible way of structuring the data is as a table, depicted in Figure below.\n",
    "For example, the distance from Atlanta to Los Angeles is 2175 miles. There is duplication of\n",
    "information in this representation, however. For each distance from x to y , the distance from y to x is also represented. If the size of the table is small, as here, this is not much of an issue. "
   ]
  },
  {
   "cell_type": "markdown",
   "metadata": {},
   "source": [
    "<img src=\"23.jpg\">"
   ]
  },
  {
   "cell_type": "markdown",
   "metadata": {},
   "source": [
    "However, for a significantly larger table, significantly more memory would be wasted during program execution.\n",
    "Since only half of the table is really needed (for example, the shaded area in the figure below), the data\n",
    "could be represented as a list of lists instead."
   ]
  },
  {
   "cell_type": "markdown",
   "metadata": {},
   "source": [
    "      [[‘Atlanta’, [‘Boston’, 1110], [‘Chicago’, 718], [‘Los Angeles’, 2175], [‘New York’, 888],[‘San Francisco’, 2473] ],\n",
    "        [‘Boston’, [‘Chicago’, 992], [‘Los Angeles’, 2991], [‘New York’, 215], [‘San Francisco’, 3106] ],\n",
    "        [‘Chicago’, [‘Los Angeles’, 2015], [‘New York’, 791], [‘San Francisco’, 2131] ],\n",
    "        [‘Los Angeles’, [‘New York’, 2790], [‘San Francisco’, 381] ],\n",
    "        [‘New York’, [‘San Francisco’, 2901] ] ]"
   ]
  },
  {
   "cell_type": "markdown",
   "metadata": {},
   "source": [
    "Finally, for a chess-playing program, the location and identifi cation of each chess piece needs to be\n",
    "represented (Figure below). An obvious way to do this is shown on the left below, in which each piece\n",
    "is represented by a single letter (‘K’ for the king, ‘Q’ for the queen, ‘N’ for the knight, etc.),"
   ]
  },
  {
   "cell_type": "markdown",
   "metadata": {},
   "source": [
    "<img src=\"24.jpg\">"
   ]
  },
  {
   "cell_type": "markdown",
   "metadata": {},
   "source": [
    "There is a problem with this choice of symbols, however—there is no way to distinguish the white\n",
    "pieces from the black ones. The letters could be modified, for example, PB for a black pawn and\n",
    "PW for a white pawn. While that may be an intuitive representation, it is not the best representation\n",
    "for a program. A better way would be to represent pieces using positive and negative integers as\n",
    "shown on the right of the figure: 1 for a white pawn and 21 for a black pawn; 2 for a white bishop and 22 for a black bishop, and so forth. Various ways of representing chess boards have been\n",
    "developed, each with certain advantages and disadvantages. The appropriate representation of data\n",
    "is a fundamental aspect of computer science"
   ]
  },
  {
   "cell_type": "markdown",
   "metadata": {},
   "source": [
    "### Describing the Needed Algorithms"
   ]
  },
  {
   "cell_type": "markdown",
   "metadata": {},
   "source": [
    "When solving a computational problem, either suitable existing algorithms may be found or new\n",
    "algorithms must be developed. For the MCGW problem, there are standard search algorithms that\n",
    "can be used. For the calendar month problem, a day of the week algorithm already exists. For the\n",
    "Traveling Salesman problem, there are various (nontrivial) algorithms that can be utilized, as mentioned,\n",
    "for solving problems with tens of thousands of cities. Finally, for the game of chess, since it\n",
    "is infeasible to look ahead at the fi nal outcomes of every possible move, there are algorithms that\n",
    "make a best guess at which moves to make. Algorithms that work well in general but are not guaranteed\n",
    "to give the correct result for each specifi c problem are called heuristic algorithms ."
   ]
  },
  {
   "cell_type": "markdown",
   "metadata": {},
   "source": [
    "## Program Implementation"
   ]
  },
  {
   "cell_type": "markdown",
   "metadata": {},
   "source": [
    "Design decisions provide general details of the data representation and the algorithmic approaches\n",
    "for solving a problem. The details, however, do not specify which programming language to use, or\n",
    "how to implement the program. That is a decision for the implementation phase. Since we are programming\n",
    "in Python, the implementation needs to be expressed in a syntactically correct and\n",
    "appropriate way, using the instructions and features available in Python."
   ]
  },
  {
   "cell_type": "markdown",
   "metadata": {},
   "source": [
    "## Program Testing"
   ]
  },
  {
   "cell_type": "markdown",
   "metadata": {},
   "source": [
    "As humans, we have abilities that far exceed the capabilities of any machine, such as using commonsense\n",
    "reasoning, or reading the expressions of another person. However, one thing that we are\n",
    "not very good at is dealing with detail, which computer programming demands. Therefore, while\n",
    "we are enticed by the existence of increasingly capable computing devices that unfailingly and\n",
    "speedily execute whatever instructions we give them, writing computer programs is diffi cult and\n",
    "challenging. As a result, programming errors are pervasive, persistent and inevitable . However,\n",
    "the sense of accomplishment of developing software that can be of benefi t to hundreds, thousands,\n",
    "or even millions of people can be extremely gratifying. If it were easy to do, the satisfaction would\n",
    "not be as great.\n",
    "\n",
    "\n",
    "Given this fact, software testing is a crucial part of software development. Testing is done incrementally\n",
    "as a program is being developed, when the program is complete, and when the program needs\n",
    "to be updated. In subsequent chapters, program testing and debugging will be discussed and expanded\n",
    "upon. For now, we provide the following general truisms of software development in Figure below. "
   ]
  },
  {
   "cell_type": "markdown",
   "metadata": {},
   "source": [
    "<img src=\"25.jpg\">"
   ]
  },
  {
   "cell_type": "markdown",
   "metadata": {},
   "source": [
    "Truism 1 reflects the fact that programming errors are inevitable and that we must accept it. As a\n",
    "result of truism 1, truism 2 states the essential role of software testing. Given the inevitability of\n",
    "programming errors, it is important to test a piece of software in a thorough and systematic manner.\n",
    "Finally, truism 3 states the importance of understanding why a given change (or set of changes) in a\n",
    "program fixes a specific error. If you make a change to a program that fi xes a given problem but you\n",
    "don’t know why it did, then you have lost control of the program logic. As a result, you may have\n",
    "corrected one problem, but inadvertently caused other, potentially more serious ones.\n",
    "Accountants are committed to reconciling balances to the penny. They do not disregard a discrepancy\n",
    "of one cent, for example, even though the difference between the calculated and expected\n",
    "balances is so small. They understand that a small, seemingly insignifi cant difference can be the\n",
    "result of two (or more) very big discrepancies. For example, there may be an erroneous credit of Dollar 1,500.01 and an erroneous debit of Dollar 1,500. (The author has experienced such a situation in which\n",
    "the people involved worked all night to find the source of the error.) Determining the source of errors\n",
    "in a program is very much the same. "
   ]
  },
  {
   "cell_type": "markdown",
   "metadata": {},
   "source": [
    "## The Python Programming Language"
   ]
  },
  {
   "cell_type": "markdown",
   "metadata": {},
   "source": [
    "Now that computational problem solving and computer programming have been discussed, we turn\n",
    "to the Python programming language and associated tools to begin putting this knowledge into\n",
    "practice."
   ]
  },
  {
   "cell_type": "markdown",
   "metadata": {},
   "source": [
    "### About Python"
   ]
  },
  {
   "cell_type": "markdown",
   "metadata": {},
   "source": [
    "Guido van Rossum (Figure 1-26) is the creator of\n",
    "the Python programming language, fi rst released\n",
    "in the early 1990s. Its name comes from a 1970s\n",
    "British comedy sketch television show called\n",
    "Monty Python’s Flying Circus . (Check them out on\n",
    "YouTube!) The development environment IDLE\n",
    "provided with Python (discussed below) comes\n",
    "from the name of a member of the comic group.\n",
    "Python has a simple syntax. Python programs\n",
    "are clear and easy to read. At the same time,\n",
    "Python provides powerful programming features,\n",
    "and is widely used. Companies and organizations\n",
    "that use Python include YouTube, Google, Yahoo,\n",
    "and NASA. Python is well supported and freely\n",
    "available at www.python.org. "
   ]
  },
  {
   "cell_type": "markdown",
   "metadata": {},
   "source": [
    "<img src=\"26.jpg\">"
   ]
  },
  {
   "cell_type": "markdown",
   "metadata": {},
   "source": [
    "### The IDLE Python Development Environment"
   ]
  },
  {
   "cell_type": "markdown",
   "metadata": {},
   "source": [
    "IDLE is an integrated development environment\n",
    "( IDE ). An IDE is a bundled set of software tools\n",
    "for program development. This typically includes an editor for creating and modifying programs, a translator for executing programs, and a program\n",
    "debugger . A debugger provides a means of taking control of the execution of a program to aid in finding\n",
    "program errors. "
   ]
  },
  {
   "cell_type": "markdown",
   "metadata": {},
   "source": [
    "Python is most commonly translated by use of an interpreter. Thus, Python provides the\n",
    "very useful ability to execute in interactive mode. The window that provides this interaction is\n",
    "referered to as the Python shell . Interacting with the shell is much like using a calculator, except\n",
    "that, instead of being limited to the operations built into a calculator (addition, subtraction, etc.),\n",
    "it allows the entry and creation of any Python code. Example use of the Python shell is demonstrated\n",
    "in Figure below."
   ]
  },
  {
   "cell_type": "markdown",
   "metadata": {},
   "source": [
    "<img src=\"27.jpg\">"
   ]
  },
  {
   "cell_type": "markdown",
   "metadata": {},
   "source": [
    "Here, the expression 2 + 3 is entered at the shell prompt ( >>> ), which immediately responds\n",
    "with the result 5."
   ]
  },
  {
   "cell_type": "markdown",
   "metadata": {},
   "source": [
    "Although working in the Python shell is convenient, the entered code is not saved. Thus, for\n",
    "program development, a means of entering, editing, and saving Python programs is provided by\n",
    "the program editor in IDLE. Details are given below."
   ]
  },
  {
   "cell_type": "markdown",
   "metadata": {},
   "source": [
    "An Integrated Development Environment (IDE) is a bundled set of software tools for program\n",
    "development."
   ]
  },
  {
   "cell_type": "markdown",
   "metadata": {},
   "source": [
    "## The Python Standard Library"
   ]
  },
  {
   "cell_type": "markdown",
   "metadata": {},
   "source": [
    "The Python Standard Library is a collection of built-in modules , each providing specifi c functionality\n",
    "beyond what is included in the “core” part of Python. For example, the math module provides additional mathematical functions. The\n",
    "random module provides the ability to generate random numbers, useful in programming, as we\n",
    "shall see. In order\n",
    "to utilize the capabilities of a given module in a specific program, an import statement is used as\n",
    "shown in Figure below.\n"
   ]
  },
  {
   "cell_type": "markdown",
   "metadata": {},
   "source": [
    "The example in the figure shows the use of the import math statement to gain access to a\n",
    "particular function in the math module, the factorial function. The syntax for using the factorial function is math.factorial(n), for some positive integer nf"
   ]
  },
  {
   "cell_type": "markdown",
   "metadata": {},
   "source": [
    "<img src=\"28.jpg\">"
   ]
  },
  {
   "cell_type": "markdown",
   "metadata": {},
   "source": [
    "The Python Standard Library is a collection of modules, each providing specific functionality\n",
    "beyond what is included in the core part of Python."
   ]
  },
  {
   "cell_type": "code",
   "execution_count": 3,
   "metadata": {},
   "outputs": [],
   "source": [
    "import math"
   ]
  },
  {
   "cell_type": "code",
   "execution_count": 4,
   "metadata": {},
   "outputs": [
    {
     "data": {
      "text/plain": [
       "24"
      ]
     },
     "execution_count": 4,
     "metadata": {},
     "output_type": "execute_result"
    }
   ],
   "source": [
    "math.factorial(4)"
   ]
  },
  {
   "cell_type": "code",
   "execution_count": 5,
   "metadata": {},
   "outputs": [
    {
     "data": {
      "text/plain": [
       "3628800"
      ]
     },
     "execution_count": 5,
     "metadata": {},
     "output_type": "execute_result"
    }
   ],
   "source": [
    "math.factorial(10)"
   ]
  },
  {
   "cell_type": "code",
   "execution_count": 6,
   "metadata": {},
   "outputs": [
    {
     "data": {
      "text/plain": [
       "2432902008176640000"
      ]
     },
     "execution_count": 6,
     "metadata": {},
     "output_type": "execute_result"
    }
   ],
   "source": [
    "math.factorial(20)"
   ]
  },
  {
   "cell_type": "code",
   "execution_count": 7,
   "metadata": {},
   "outputs": [
    {
     "data": {
      "text/plain": [
       "30414093201713378043612608166064768844377641568960512000000000000"
      ]
     },
     "execution_count": 7,
     "metadata": {},
     "output_type": "execute_result"
    }
   ],
   "source": [
    "math.factorial(50)"
   ]
  },
  {
   "cell_type": "markdown",
   "metadata": {},
   "source": [
    "### A Bit of Python"
   ]
  },
  {
   "cell_type": "markdown",
   "metadata": {},
   "source": [
    "We introduce a bit of Python, just enough to begin writing some simple programs. Since all computer\n",
    "programs input data, process the data, and output results, we look at the notion of a variable, how to\n",
    "perform some simple arithmetic calculations, and how to do simple input and output."
   ]
  },
  {
   "cell_type": "markdown",
   "metadata": {},
   "source": [
    "### Variables"
   ]
  },
  {
   "cell_type": "markdown",
   "metadata": {},
   "source": [
    "One of the most fundamental concepts in programming is that of a variable . (Variables are discussed\n",
    "in detail in next lecture.) A simple description of a variable is “a name that is assigned to a value,” as\n",
    "shown below,"
   ]
  },
  {
   "cell_type": "code",
   "execution_count": 8,
   "metadata": {},
   "outputs": [],
   "source": [
    "n = 5    # variable n is assigned the value"
   ]
  },
  {
   "cell_type": "markdown",
   "metadata": {},
   "source": [
    "Thus, whenever variable n appears in a calculation, it is the current value that n is assigned to that\n",
    "is used, as in the following,"
   ]
  },
  {
   "cell_type": "code",
   "execution_count": 9,
   "metadata": {},
   "outputs": [
    {
     "data": {
      "text/plain": [
       "25"
      ]
     },
     "execution_count": 9,
     "metadata": {},
     "output_type": "execute_result"
    }
   ],
   "source": [
    "n + 20    #(5 + 20)"
   ]
  },
  {
   "cell_type": "markdown",
   "metadata": {},
   "source": [
    "If variable n is assigned a new value, then the same expression will produce a different result,"
   ]
  },
  {
   "cell_type": "code",
   "execution_count": 10,
   "metadata": {},
   "outputs": [
    {
     "data": {
      "text/plain": [
       "30"
      ]
     },
     "execution_count": 10,
     "metadata": {},
     "output_type": "execute_result"
    }
   ],
   "source": [
    "n = 10 \n",
    "n + 20        #(10 + 20)"
   ]
  },
  {
   "cell_type": "markdown",
   "metadata": {},
   "source": [
    "**A variable is a name that is assigned to a value.**"
   ]
  },
  {
   "cell_type": "markdown",
   "metadata": {},
   "source": [
    "**We next look at some basic arithmetic operators of Python.**"
   ]
  },
  {
   "cell_type": "markdown",
   "metadata": {},
   "source": [
    "## Some Basic Arithmetic Operators"
   ]
  },
  {
   "cell_type": "markdown",
   "metadata": {},
   "source": [
    "The common arithmetic operators in Python are + (addition), - (subtraction), * (multiplication),\n",
    "/ (division), and ** (exponentiation). Addition, subtraction, and division use the same symbols as\n",
    "standard mathematical notation,"
   ]
  },
  {
   "cell_type": "code",
   "execution_count": 11,
   "metadata": {},
   "outputs": [
    {
     "data": {
      "text/plain": [
       "30"
      ]
     },
     "execution_count": 11,
     "metadata": {},
     "output_type": "execute_result"
    }
   ],
   "source": [
    "10 + 20    "
   ]
  },
  {
   "cell_type": "code",
   "execution_count": 12,
   "metadata": {},
   "outputs": [
    {
     "data": {
      "text/plain": [
       "10"
      ]
     },
     "execution_count": 12,
     "metadata": {},
     "output_type": "execute_result"
    }
   ],
   "source": [
    "25 - 15      "
   ]
  },
  {
   "cell_type": "code",
   "execution_count": 13,
   "metadata": {},
   "outputs": [
    {
     "data": {
      "text/plain": [
       "2.0"
      ]
     },
     "execution_count": 13,
     "metadata": {},
     "output_type": "execute_result"
    }
   ],
   "source": [
    "20 / 10"
   ]
  },
  {
   "cell_type": "markdown",
   "metadata": {},
   "source": [
    "(There is also the symbol // for truncated division, discussed in next lecture.) For multiplication and\n",
    "exponentiation, the asterisk (*) is used."
   ]
  },
  {
   "cell_type": "code",
   "execution_count": 14,
   "metadata": {},
   "outputs": [
    {
     "data": {
      "text/plain": [
       "50"
      ]
     },
     "execution_count": 14,
     "metadata": {},
     "output_type": "execute_result"
    }
   ],
   "source": [
    "5 * 10   #(5 times 10) "
   ]
  },
  {
   "cell_type": "code",
   "execution_count": 15,
   "metadata": {},
   "outputs": [
    {
     "data": {
      "text/plain": [
       "16"
      ]
     },
     "execution_count": 15,
     "metadata": {},
     "output_type": "execute_result"
    }
   ],
   "source": [
    "2 ** 4  #(2 to the 4th power)"
   ]
  },
  {
   "cell_type": "markdown",
   "metadata": {},
   "source": [
    "Multiplication is never denoted by the use of parentheses as in mathematics, as depicted below,<br>\n",
    "    "
   ]
  },
  {
   "cell_type": "code",
   "execution_count": 16,
   "metadata": {},
   "outputs": [
    {
     "data": {
      "text/plain": [
       "250"
      ]
     },
     "execution_count": 16,
     "metadata": {},
     "output_type": "execute_result"
    }
   ],
   "source": [
    "10 * (20 + 5)     #CORRECT              "
   ]
  },
  {
   "cell_type": "code",
   "execution_count": 17,
   "metadata": {},
   "outputs": [
    {
     "ename": "TypeError",
     "evalue": "'int' object is not callable",
     "output_type": "error",
     "traceback": [
      "\u001b[1;31m---------------------------------------------------------------------------\u001b[0m",
      "\u001b[1;31mTypeError\u001b[0m                                 Traceback (most recent call last)",
      "\u001b[1;32m<ipython-input-17-f41faec6e400>\u001b[0m in \u001b[0;36m<module>\u001b[1;34m()\u001b[0m\n\u001b[1;32m----> 1\u001b[1;33m \u001b[1;36m10\u001b[0m\u001b[1;33m(\u001b[0m\u001b[1;36m20\u001b[0m \u001b[1;33m+\u001b[0m \u001b[1;36m5\u001b[0m\u001b[1;33m)\u001b[0m        \u001b[1;31m#INCORRECT\u001b[0m\u001b[1;33m\u001b[0m\u001b[0m\n\u001b[0m",
      "\u001b[1;31mTypeError\u001b[0m: 'int' object is not callable"
     ]
    }
   ],
   "source": [
    "10(20 + 5)        #INCORRECT"
   ]
  },
  {
   "cell_type": "markdown",
   "metadata": {},
   "source": [
    "Note that parentheses may be used to denote subexpressions. Finally, we see how to input information\n",
    "from the user, and display program results."
   ]
  },
  {
   "cell_type": "markdown",
   "metadata": {},
   "source": [
    "The common arithmetic operators in Python are 1 (addition), 2 (subtraction), * (multiplication),\n",
    "/ (division), and ** (exponentiation)."
   ]
  },
  {
   "cell_type": "markdown",
   "metadata": {},
   "source": [
    "## Basic Input and Output"
   ]
  },
  {
   "cell_type": "markdown",
   "metadata": {},
   "source": [
    "The programs that we will write request and get information from the user. In Python, the input\n",
    "function is used for this purpose,\n"
   ]
  },
  {
   "cell_type": "code",
   "execution_count": 18,
   "metadata": {},
   "outputs": [
    {
     "name": "stdout",
     "output_type": "stream",
     "text": [
      "What is your name?: abc\n"
     ]
    }
   ],
   "source": [
    "name = input('What is your name?: ')"
   ]
  },
  {
   "cell_type": "markdown",
   "metadata": {},
   "source": [
    "Characters within quotes are called strings . This particular use of a string, for requesting input from\n",
    "the user, is called a prompt . The input function displays the string on the screen to prompt the user\n",
    "for input,"
   ]
  },
  {
   "cell_type": "markdown",
   "metadata": {},
   "source": [
    "The underline is used here to indicate the user’s input.\n",
    "The print function is used to display information on the screen in Python. This may be used to\n",
    "display a message,"
   ]
  },
  {
   "cell_type": "code",
   "execution_count": 18,
   "metadata": {},
   "outputs": [
    {
     "name": "stdout",
     "output_type": "stream",
     "text": [
      "Welcome to My First Program!\n"
     ]
    }
   ],
   "source": [
    " print('Welcome to My First Program!')\n"
   ]
  },
  {
   "cell_type": "markdown",
   "metadata": {},
   "source": [
    "or used to output the value of a variable"
   ]
  },
  {
   "cell_type": "code",
   "execution_count": 19,
   "metadata": {},
   "outputs": [
    {
     "name": "stdout",
     "output_type": "stream",
     "text": [
      "10\n"
     ]
    }
   ],
   "source": [
    "n = 10\n",
    "print(n)"
   ]
  },
  {
   "cell_type": "markdown",
   "metadata": {},
   "source": [
    "or to display a combination of both strings and variables,"
   ]
  },
  {
   "cell_type": "code",
   "execution_count": 20,
   "metadata": {},
   "outputs": [
    {
     "name": "stdout",
     "output_type": "stream",
     "text": [
      "What is your name?: Charles\n"
     ]
    }
   ],
   "source": [
    "name = input('What is your name?: ')"
   ]
  },
  {
   "cell_type": "code",
   "execution_count": 21,
   "metadata": {},
   "outputs": [
    {
     "name": "stdout",
     "output_type": "stream",
     "text": [
      "Hello Charles\n"
     ]
    }
   ],
   "source": [
    "print('Hello', name)"
   ]
  },
  {
   "cell_type": "markdown",
   "metadata": {},
   "source": [
    "Note that a comma is used to separate the individual items being printed, causing a space to appear\n",
    "between each when displayed. Thus, the output of the print function in this case is Hello\n",
    "Charles, and not HelloCharles. There is more to say about variables, operators, and input/\n",
    "output in Python. This will be covered in the chapters ahead."
   ]
  },
  {
   "cell_type": "markdown",
   "metadata": {},
   "source": [
    "In Python, input is used to request and get information from the user, and print is used to\n",
    "display information on the screen."
   ]
  },
  {
   "cell_type": "markdown",
   "metadata": {},
   "source": [
    "## Learning How to Use IDLE"
   ]
  },
  {
   "cell_type": "markdown",
   "metadata": {},
   "source": [
    "In order to become familiar with writing your own Python programs\n",
    "using IDLE, we will create a simple program that asks the user for their\n",
    "name and responds with a greeting. This program utilizes the following\n",
    "concepts:"
   ]
  },
  {
   "cell_type": "markdown",
   "metadata": {},
   "source": [
    "♦ creating and executing Python programs<br>\n",
    "♦ input and print<br>"
   ]
  },
  {
   "cell_type": "markdown",
   "metadata": {},
   "source": [
    "First, to create a Python program fi le, select New Window from the File menu in the Python shell as\n",
    "shown in Figure below"
   ]
  },
  {
   "cell_type": "markdown",
   "metadata": {},
   "source": [
    "<img src=\"29.jpg\">"
   ]
  },
  {
   "cell_type": "markdown",
   "metadata": {},
   "source": [
    "A new, untitled program window will appear:"
   ]
  },
  {
   "cell_type": "markdown",
   "metadata": {},
   "source": [
    "<img src=\"30.jpg\">"
   ]
  },
  {
   "cell_type": "markdown",
   "metadata": {},
   "source": [
    "Type the following in the program window exactly as shown."
   ]
  },
  {
   "cell_type": "markdown",
   "metadata": {},
   "source": [
    "<img src=\"31.jpg\">"
   ]
  },
  {
   "cell_type": "markdown",
   "metadata": {},
   "source": [
    "When finished, save the program file by selecting Save As under the File menu, and save in the\n",
    "appropriate folder with the name MyFirstProgram.py."
   ]
  },
  {
   "cell_type": "markdown",
   "metadata": {},
   "source": [
    "<img src=\"32.jpg\">"
   ]
  },
  {
   "cell_type": "markdown",
   "metadata": {},
   "source": [
    "To run the program, select Run Module from the Run menu (or simply hit function key F5)."
   ]
  },
  {
   "cell_type": "markdown",
   "metadata": {},
   "source": [
    "<img srcf=\"33.png\">"
   ]
  },
  {
   "cell_type": "markdown",
   "metadata": {},
   "source": [
    "If you have entered the program code correctly, the program should execute as shown in Figure below"
   ]
  },
  {
   "cell_type": "markdown",
   "metadata": {},
   "source": [
    "<img src=\"34.jpg\">"
   ]
  },
  {
   "cell_type": "markdown",
   "metadata": {},
   "source": [
    "If, however, you have mistyped part of the program resulting in a syntax error (such as mistyping\n",
    "print), you will get an error message similar to that in Figure below"
   ]
  },
  {
   "cell_type": "markdown",
   "metadata": {},
   "source": [
    "<img src=\"35.jpg\">"
   ]
  },
  {
   "cell_type": "markdown",
   "metadata": {},
   "source": [
    "In that case, go back to the program window and make the needed corrections, then re-save and\n",
    "re-execute the program. You may need to go through this process a number of times until all the\n",
    "syntax errors have been corrected"
   ]
  },
  {
   "cell_type": "markdown",
   "metadata": {},
   "source": [
    "## A First Program—Calculating the Drake Equation"
   ]
  },
  {
   "cell_type": "markdown",
   "metadata": {},
   "source": [
    "Dr. Frank Drake conducted the first search for\n",
    "radio signals from extraterrestrial civilizations in\n",
    "1960. This established SETI (Search for Extraterrestrial\n",
    "Intelligence), a new area of scientific\n",
    "inquiry. In order to estimate the number of civilizations\n",
    "that may exist in our galaxy that we may\n",
    "be able to communicate with, he developed what\n",
    "is now called the Drake equation .\n",
    "The Drake equation accounts for a number\n",
    "of different factors. The values used for some of\n",
    "these are the result of scientifi c study, while others\n",
    "are only the result of an “intelligent guess.”\n",
    "The factors consist of R, the average rate of star\n",
    "creation per year in our galaxy; p, the percentage\n",
    "of those stars that have planets; n, the average\n",
    "number of planets that can potentially support\n",
    "life for each star with planets; f, the percentage of\n",
    "those planets that actually go on to develop life; i,\n",
    "the percentage of those planets that go on to develop intelligent life; c, the percentage of those that\n",
    "have the technology communicate with us; and L, the expected lifetime of civilizations (the period\n",
    "that they can communicate). The Drake equation is simply the multiplication of all these factors,\n",
    "giving N, the estimated number of detectable civilizations there are at any given time,<br>\n",
    "                    N = R . p . n . f . i . c . L"
   ]
  },
  {
   "cell_type": "markdown",
   "metadata": {},
   "source": [
    "<img src=\"36.jpg\">"
   ]
  },
  {
   "cell_type": "markdown",
   "metadata": {},
   "source": [
    "Figure below shows those parameters in the Drake equation that have some consensus as to their\n",
    "correct value."
   ]
  },
  {
   "cell_type": "markdown",
   "metadata": {},
   "source": [
    "<img src=\"37.jpg\">"
   ]
  },
  {
   "cell_type": "markdown",
   "metadata": {},
   "source": [
    "### The Problem"
   ]
  },
  {
   "cell_type": "markdown",
   "metadata": {},
   "source": [
    "The value of 7 for R, the rate of star creation, is the least disputed value in the Drake equation today.\n",
    "Given the uncertainty of the remaining factors, you are to develop a program that allows a user to\n",
    "enter their own estimated values for the remaining six factors (p, n, f, i, c, and L) and displays the\n",
    "calculated result."
   ]
  },
  {
   "cell_type": "markdown",
   "metadata": {},
   "source": [
    "### Problem Analysis\n",
    "This problem is very straightforward. We only need to understand the equation provided."
   ]
  },
  {
   "cell_type": "markdown",
   "metadata": {},
   "source": [
    "### Program Design\n",
    "The program design for this problem is also straightforward. The data to be represented consist of\n",
    "numerical values, with the Drake equation as the algorithm. The overall steps of the program are\n",
    "depicted in Figure below ."
   ]
  },
  {
   "cell_type": "markdown",
   "metadata": {},
   "source": [
    "<img src=\"38.jpg\">"
   ]
  },
  {
   "cell_type": "markdown",
   "metadata": {},
   "source": [
    "## Program Implementation"
   ]
  },
  {
   "cell_type": "markdown",
   "metadata": {},
   "source": [
    "The implementation of this program is fairly simple. The only programming elements needed are\n",
    "input, assignment, and print, along with the use of arithmetic operators. An implementation is given\n",
    "in Figure below. \n",
    "First, note the program lines beginning with the hash sign, #. In Python, this symbol is used to\n",
    "denote a comment statement . A comment statement contains information for persons reading the\n",
    "program. Comment statements are ignored during program execution—they have no effect on the\n",
    "program results. "
   ]
  },
  {
   "cell_type": "markdown",
   "metadata": {},
   "source": [
    "<img src=\"39.jpg\" width=500, height=500>"
   ]
  },
  {
   "cell_type": "code",
   "execution_count": 2,
   "metadata": {},
   "outputs": [
    {
     "name": "stdout",
     "output_type": "stream",
     "text": [
      "welcome to the set program \n",
      "This program will allow you to enrter specificvalue related to \n",
      "the likelihood fo finding intelegent life in our galaxy, All \n",
      "persentage should be entered as integer value, e.g 40 and no .40 \n"
     ]
    }
   ],
   "source": [
    "#display program welcome\n",
    "print ('welcome to the set program ')\n",
    "print ('This program will allow you to enrter specificvalue related to ')\n",
    "print ('the likelihood fo finding intelegent life in our galaxy, All ')\n",
    "print ('persentage should be entered as integer value, e.g 40 and no .40 ')"
   ]
  },
  {
   "cell_type": "code",
   "execution_count": 4,
   "metadata": {},
   "outputs": [
    {
     "name": "stdout",
     "output_type": "stream",
     "text": [
      "What percentage of stars do you thaink have planats? :89\n",
      "How many planets per star do you think can support life ?:2\n",
      "What persentage do you tahink actually develop live ? :1\n",
      "What persentage of those do you think have intelligent life :1\n",
      "What persentage of those do you think can communicate with us  :1\n",
      "Number of years you think civilazation last :5000\n"
     ]
    }
   ],
   "source": [
    "#get user input\n",
    "p=int(input('What percentage of stars do you thaink have planats? :'))\n",
    "n=int(input('How many planets per star do you think can support life ?:'))\n",
    "f=int(input('What persentage do you tahink actually develop live ? :'))\n",
    "i=int(input('What persentage of those do you think have intelligent life :'))\n",
    "o=int(input('What persentage of those do you think can communicate with us  :'))\n",
    "l=int(input('Number of years you think civilazation last :'))"
   ]
  },
  {
   "cell_type": "code",
   "execution_count": 9,
   "metadata": {},
   "outputs": [
    {
     "data": {
      "text/plain": [
       "0.06230000000000001"
      ]
     },
     "execution_count": 9,
     "metadata": {},
     "output_type": "execute_result"
    }
   ],
   "source": [
    "# calculate result\n",
    "num_detectable_civilization = 7 *(p/100)* n *(f/100) * (i/100) * (o/100)*l\n",
    "num_detectable_civilization "
   ]
  },
  {
   "cell_type": "code",
   "execution_count": 13,
   "metadata": {},
   "outputs": [
    {
     "name": "stdout",
     "output_type": "stream",
     "text": [
      "\n",
      "based on the values entered...\n",
      "there are an estimated 0 protencially dectable civilization inourcountry\n"
     ]
    },
    {
     "data": {
      "text/plain": [
       "(None,)"
      ]
     },
     "execution_count": 13,
     "metadata": {},
     "output_type": "execute_result"
    }
   ],
   "source": [
    "# display result\n",
    "print()\n",
    "print('based on the values entered...')\n",
    "print('there are an estimated', round(num_detectable_civilization ),'protencially dectable civilization inourcountry' ),      "
   ]
  },
  {
   "cell_type": "markdown",
   "metadata": {},
   "source": [
    "Comment statements are also used in the program to denote the beginning of each program section\n",
    "( lines 25, 32, 40, and 43 ). These section headers provide a broad outline of the program following\n",
    "the program design.\n",
    "The program welcome section ( lines 25–30 ) contains a series of print instructions displaying\n",
    "output to the screen. Each begins with the word print followed by a matching pair of parentheses.\n",
    "Within the parentheses are the items to be displayed. In this case, each contains a particular string of\n",
    "characters. The final “empty” print, print() on line 30 (and line 44 ), does not display anything.\n",
    "It simply causes the screen cursor to move down to the next line, therefore creating a skipped line in\n",
    "the screen output. "
   ]
  },
  {
   "cell_type": "markdown",
   "metadata": {},
   "source": [
    "<img src=\"40.jpg\">"
   ]
  },
  {
   "cell_type": "markdown",
   "metadata": {},
   "source": [
    "Previously, we saw the input function used for inputting a name entered by the user. In that case,\n",
    "the instruction was of the form,"
   ]
  },
  {
   "cell_type": "code",
   "execution_count": 19,
   "metadata": {},
   "outputs": [
    {
     "name": "stdout",
     "output_type": "stream",
     "text": [
      "What is your name?:abc\n"
     ]
    }
   ],
   "source": [
    "name = input('What is your name?:')"
   ]
  },
  {
   "cell_type": "markdown",
   "metadata": {},
   "source": [
    "In this program, there is added syntax,<br>\n",
    "  *p = int( input('What percentage of stars do you think have planets?:') )*<br>\n",
    "    The input function always returns what the user enters as a string of characters. This is appropriate\n",
    "when a person’s name is being entered. However, in this program, numbers are being entered, not\n",
    "names. "
   ]
  },
  {
   "cell_type": "code",
   "execution_count": 20,
   "metadata": {},
   "outputs": [
    {
     "name": "stdout",
     "output_type": "stream",
     "text": [
      "What percentage of stars do you think have planets?:40\n"
     ]
    }
   ],
   "source": [
    "p = int( input('What percentage of stars do you think have planets?:') )"
   ]
  },
  {
   "cell_type": "markdown",
   "metadata": {},
   "source": [
    "Thus, in, the above code 40 is to be read as single number and not as the characters '4' and '0'. The addition of the\n",
    "int (. . .) syntax around the input instruction accomplishes this. This will be discussed more\n",
    "fully when numeric and string (character) data are discussed."
   ]
  },
  {
   "cell_type": "markdown",
   "metadata": {},
   "source": [
    "In the Drake equation program refer to variable num_detectable_\n",
    "civilizations. Note that since some input values were meant to be percentages (p, f, i,\n",
    "and c), those values in the equation are each divided by 100. The results are displayed using 'print' command."
   ]
  },
  {
   "cell_type": "markdown",
   "metadata": {},
   "source": [
    "## Program Testing"
   ]
  },
  {
   "cell_type": "markdown",
   "metadata": {},
   "source": [
    "To test the program, we can calculate the Drake equation for various other values using a calculator,\n",
    "providing a set of test cases . A test case is a set of input values and expected output of a given program.\n",
    "A test plan consists of a number of test cases to verify that a program meets all requirements.\n",
    "A good strategy is to include “average,” as well as “extreme” or “special” cases in a test plan. Such\n",
    "a test plan is given in Figure below. <br>\n",
    "Based on these results, we can be fairly confident that the program will give the correct results\n",
    "for all input values."
   ]
  },
  {
   "cell_type": "markdown",
   "metadata": {},
   "source": [
    "<img src=\"41.jpg\">"
   ]
  },
  {
   "cell_type": "markdown",
   "metadata": {},
   "source": [
    "# Good Job!"
   ]
  },
  {
   "cell_type": "code",
   "execution_count": null,
   "metadata": {},
   "outputs": [],
   "source": []
  }
 ],
 "metadata": {
  "kernelspec": {
   "display_name": "Python 3",
   "language": "python",
   "name": "python3"
  },
  "language_info": {
   "codemirror_mode": {
    "name": "ipython",
    "version": 3
   },
   "file_extension": ".py",
   "mimetype": "text/x-python",
   "name": "python",
   "nbconvert_exporter": "python",
   "pygments_lexer": "ipython3",
   "version": "3.8.5"
  }
 },
 "nbformat": 4,
 "nbformat_minor": 2
}
